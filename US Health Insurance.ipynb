{
 "cells": [
  {
   "cell_type": "markdown",
   "id": "1e157e72",
   "metadata": {},
   "source": [
    "# US Health Insurance\n",
    "- Andrea Cohen\n",
    "- 03.09.2023"
   ]
  },
  {
   "cell_type": "markdown",
   "id": "e826be50",
   "metadata": {},
   "source": [
    "## Data:\n",
    "Source - \n",
    "- https://www.kaggle.com/datasets/teertha/ushealthinsurancedataset\n",
    "\n",
    "Content -\n",
    "- This dataset contains 1338 rows of insured data, where the Insurance charges are given against the following attributes of the insured: Age, Sex, BMI, Number of Children, Smoker and Region. There are no missing or undefined values in the dataset."
   ]
  },
  {
   "cell_type": "markdown",
   "id": "377e8479",
   "metadata": {},
   "source": [
    "## Preliminary Steps"
   ]
  },
  {
   "cell_type": "code",
   "execution_count": 1,
   "id": "29abe6e9",
   "metadata": {},
   "outputs": [],
   "source": [
    "# imports\n",
    "import pandas as pd\n",
    "import numpy as np\n",
    "import matplotlib.pyplot as plt\n",
    "import seaborn as sns\n",
    "import scipy.stats as stats"
   ]
  },
  {
   "cell_type": "code",
   "execution_count": 2,
   "id": "2840b685",
   "metadata": {},
   "outputs": [
    {
     "data": {
      "text/html": [
       "<div>\n",
       "<style scoped>\n",
       "    .dataframe tbody tr th:only-of-type {\n",
       "        vertical-align: middle;\n",
       "    }\n",
       "\n",
       "    .dataframe tbody tr th {\n",
       "        vertical-align: top;\n",
       "    }\n",
       "\n",
       "    .dataframe thead th {\n",
       "        text-align: right;\n",
       "    }\n",
       "</style>\n",
       "<table border=\"1\" class=\"dataframe\">\n",
       "  <thead>\n",
       "    <tr style=\"text-align: right;\">\n",
       "      <th></th>\n",
       "      <th>age</th>\n",
       "      <th>sex</th>\n",
       "      <th>bmi</th>\n",
       "      <th>children</th>\n",
       "      <th>smoker</th>\n",
       "      <th>region</th>\n",
       "      <th>charges</th>\n",
       "    </tr>\n",
       "  </thead>\n",
       "  <tbody>\n",
       "    <tr>\n",
       "      <th>0</th>\n",
       "      <td>19</td>\n",
       "      <td>female</td>\n",
       "      <td>27.900</td>\n",
       "      <td>0</td>\n",
       "      <td>yes</td>\n",
       "      <td>southwest</td>\n",
       "      <td>16884.92400</td>\n",
       "    </tr>\n",
       "    <tr>\n",
       "      <th>1</th>\n",
       "      <td>18</td>\n",
       "      <td>male</td>\n",
       "      <td>33.770</td>\n",
       "      <td>1</td>\n",
       "      <td>no</td>\n",
       "      <td>southeast</td>\n",
       "      <td>1725.55230</td>\n",
       "    </tr>\n",
       "    <tr>\n",
       "      <th>2</th>\n",
       "      <td>28</td>\n",
       "      <td>male</td>\n",
       "      <td>33.000</td>\n",
       "      <td>3</td>\n",
       "      <td>no</td>\n",
       "      <td>southeast</td>\n",
       "      <td>4449.46200</td>\n",
       "    </tr>\n",
       "    <tr>\n",
       "      <th>3</th>\n",
       "      <td>33</td>\n",
       "      <td>male</td>\n",
       "      <td>22.705</td>\n",
       "      <td>0</td>\n",
       "      <td>no</td>\n",
       "      <td>northwest</td>\n",
       "      <td>21984.47061</td>\n",
       "    </tr>\n",
       "    <tr>\n",
       "      <th>4</th>\n",
       "      <td>32</td>\n",
       "      <td>male</td>\n",
       "      <td>28.880</td>\n",
       "      <td>0</td>\n",
       "      <td>no</td>\n",
       "      <td>northwest</td>\n",
       "      <td>3866.85520</td>\n",
       "    </tr>\n",
       "  </tbody>\n",
       "</table>\n",
       "</div>"
      ],
      "text/plain": [
       "   age     sex     bmi  children smoker     region      charges\n",
       "0   19  female  27.900         0    yes  southwest  16884.92400\n",
       "1   18    male  33.770         1     no  southeast   1725.55230\n",
       "2   28    male  33.000         3     no  southeast   4449.46200\n",
       "3   33    male  22.705         0     no  northwest  21984.47061\n",
       "4   32    male  28.880         0     no  northwest   3866.85520"
      ]
     },
     "metadata": {},
     "output_type": "display_data"
    },
    {
     "name": "stdout",
     "output_type": "stream",
     "text": [
      "<class 'pandas.core.frame.DataFrame'>\n",
      "RangeIndex: 1338 entries, 0 to 1337\n",
      "Data columns (total 7 columns):\n",
      " #   Column    Non-Null Count  Dtype  \n",
      "---  ------    --------------  -----  \n",
      " 0   age       1338 non-null   int64  \n",
      " 1   sex       1338 non-null   object \n",
      " 2   bmi       1338 non-null   float64\n",
      " 3   children  1338 non-null   int64  \n",
      " 4   smoker    1338 non-null   object \n",
      " 5   region    1338 non-null   object \n",
      " 6   charges   1338 non-null   float64\n",
      "dtypes: float64(2), int64(2), object(3)\n",
      "memory usage: 73.3+ KB\n"
     ]
    },
    {
     "data": {
      "text/plain": [
       "None"
      ]
     },
     "metadata": {},
     "output_type": "display_data"
    }
   ],
   "source": [
    "# read in the data\n",
    "df = pd.read_csv('Data/insurance - insurance.csv')\n",
    "display(df.head())\n",
    "display(df.info())"
   ]
  },
  {
   "cell_type": "markdown",
   "id": "20ca5818",
   "metadata": {},
   "source": [
    "## Q1. Do smokers have higher insurance charges than non-smokers?"
   ]
  },
  {
   "cell_type": "code",
   "execution_count": 3,
   "id": "f3808669",
   "metadata": {},
   "outputs": [
    {
     "data": {
      "text/html": [
       "<div>\n",
       "<style scoped>\n",
       "    .dataframe tbody tr th:only-of-type {\n",
       "        vertical-align: middle;\n",
       "    }\n",
       "\n",
       "    .dataframe tbody tr th {\n",
       "        vertical-align: top;\n",
       "    }\n",
       "\n",
       "    .dataframe thead th {\n",
       "        text-align: right;\n",
       "    }\n",
       "</style>\n",
       "<table border=\"1\" class=\"dataframe\">\n",
       "  <thead>\n",
       "    <tr style=\"text-align: right;\">\n",
       "      <th></th>\n",
       "      <th>age</th>\n",
       "      <th>sex</th>\n",
       "      <th>bmi</th>\n",
       "      <th>children</th>\n",
       "      <th>smoker</th>\n",
       "      <th>region</th>\n",
       "      <th>charges</th>\n",
       "    </tr>\n",
       "  </thead>\n",
       "  <tbody>\n",
       "    <tr>\n",
       "      <th>0</th>\n",
       "      <td>19</td>\n",
       "      <td>female</td>\n",
       "      <td>27.90</td>\n",
       "      <td>0</td>\n",
       "      <td>yes</td>\n",
       "      <td>southwest</td>\n",
       "      <td>16884.9240</td>\n",
       "    </tr>\n",
       "    <tr>\n",
       "      <th>11</th>\n",
       "      <td>62</td>\n",
       "      <td>female</td>\n",
       "      <td>26.29</td>\n",
       "      <td>0</td>\n",
       "      <td>yes</td>\n",
       "      <td>southeast</td>\n",
       "      <td>27808.7251</td>\n",
       "    </tr>\n",
       "    <tr>\n",
       "      <th>14</th>\n",
       "      <td>27</td>\n",
       "      <td>male</td>\n",
       "      <td>42.13</td>\n",
       "      <td>0</td>\n",
       "      <td>yes</td>\n",
       "      <td>southeast</td>\n",
       "      <td>39611.7577</td>\n",
       "    </tr>\n",
       "    <tr>\n",
       "      <th>19</th>\n",
       "      <td>30</td>\n",
       "      <td>male</td>\n",
       "      <td>35.30</td>\n",
       "      <td>0</td>\n",
       "      <td>yes</td>\n",
       "      <td>southwest</td>\n",
       "      <td>36837.4670</td>\n",
       "    </tr>\n",
       "    <tr>\n",
       "      <th>23</th>\n",
       "      <td>34</td>\n",
       "      <td>female</td>\n",
       "      <td>31.92</td>\n",
       "      <td>1</td>\n",
       "      <td>yes</td>\n",
       "      <td>northeast</td>\n",
       "      <td>37701.8768</td>\n",
       "    </tr>\n",
       "  </tbody>\n",
       "</table>\n",
       "</div>"
      ],
      "text/plain": [
       "    age     sex    bmi  children smoker     region     charges\n",
       "0    19  female  27.90         0    yes  southwest  16884.9240\n",
       "11   62  female  26.29         0    yes  southeast  27808.7251\n",
       "14   27    male  42.13         0    yes  southeast  39611.7577\n",
       "19   30    male  35.30         0    yes  southwest  36837.4670\n",
       "23   34  female  31.92         1    yes  northeast  37701.8768"
      ]
     },
     "metadata": {},
     "output_type": "display_data"
    },
    {
     "name": "stdout",
     "output_type": "stream",
     "text": [
      "<class 'pandas.core.frame.DataFrame'>\n",
      "Int64Index: 274 entries, 0 to 1337\n",
      "Data columns (total 7 columns):\n",
      " #   Column    Non-Null Count  Dtype  \n",
      "---  ------    --------------  -----  \n",
      " 0   age       274 non-null    int64  \n",
      " 1   sex       274 non-null    object \n",
      " 2   bmi       274 non-null    float64\n",
      " 3   children  274 non-null    int64  \n",
      " 4   smoker    274 non-null    object \n",
      " 5   region    274 non-null    object \n",
      " 6   charges   274 non-null    float64\n",
      "dtypes: float64(2), int64(2), object(3)\n",
      "memory usage: 17.1+ KB\n"
     ]
    },
    {
     "data": {
      "text/plain": [
       "None"
      ]
     },
     "metadata": {},
     "output_type": "display_data"
    },
    {
     "data": {
      "text/html": [
       "<div>\n",
       "<style scoped>\n",
       "    .dataframe tbody tr th:only-of-type {\n",
       "        vertical-align: middle;\n",
       "    }\n",
       "\n",
       "    .dataframe tbody tr th {\n",
       "        vertical-align: top;\n",
       "    }\n",
       "\n",
       "    .dataframe thead th {\n",
       "        text-align: right;\n",
       "    }\n",
       "</style>\n",
       "<table border=\"1\" class=\"dataframe\">\n",
       "  <thead>\n",
       "    <tr style=\"text-align: right;\">\n",
       "      <th></th>\n",
       "      <th>age</th>\n",
       "      <th>sex</th>\n",
       "      <th>bmi</th>\n",
       "      <th>children</th>\n",
       "      <th>smoker</th>\n",
       "      <th>region</th>\n",
       "      <th>charges</th>\n",
       "    </tr>\n",
       "  </thead>\n",
       "  <tbody>\n",
       "    <tr>\n",
       "      <th>1</th>\n",
       "      <td>18</td>\n",
       "      <td>male</td>\n",
       "      <td>33.770</td>\n",
       "      <td>1</td>\n",
       "      <td>no</td>\n",
       "      <td>southeast</td>\n",
       "      <td>1725.55230</td>\n",
       "    </tr>\n",
       "    <tr>\n",
       "      <th>2</th>\n",
       "      <td>28</td>\n",
       "      <td>male</td>\n",
       "      <td>33.000</td>\n",
       "      <td>3</td>\n",
       "      <td>no</td>\n",
       "      <td>southeast</td>\n",
       "      <td>4449.46200</td>\n",
       "    </tr>\n",
       "    <tr>\n",
       "      <th>3</th>\n",
       "      <td>33</td>\n",
       "      <td>male</td>\n",
       "      <td>22.705</td>\n",
       "      <td>0</td>\n",
       "      <td>no</td>\n",
       "      <td>northwest</td>\n",
       "      <td>21984.47061</td>\n",
       "    </tr>\n",
       "    <tr>\n",
       "      <th>4</th>\n",
       "      <td>32</td>\n",
       "      <td>male</td>\n",
       "      <td>28.880</td>\n",
       "      <td>0</td>\n",
       "      <td>no</td>\n",
       "      <td>northwest</td>\n",
       "      <td>3866.85520</td>\n",
       "    </tr>\n",
       "    <tr>\n",
       "      <th>5</th>\n",
       "      <td>31</td>\n",
       "      <td>female</td>\n",
       "      <td>25.740</td>\n",
       "      <td>0</td>\n",
       "      <td>no</td>\n",
       "      <td>southeast</td>\n",
       "      <td>3756.62160</td>\n",
       "    </tr>\n",
       "  </tbody>\n",
       "</table>\n",
       "</div>"
      ],
      "text/plain": [
       "   age     sex     bmi  children smoker     region      charges\n",
       "1   18    male  33.770         1     no  southeast   1725.55230\n",
       "2   28    male  33.000         3     no  southeast   4449.46200\n",
       "3   33    male  22.705         0     no  northwest  21984.47061\n",
       "4   32    male  28.880         0     no  northwest   3866.85520\n",
       "5   31  female  25.740         0     no  southeast   3756.62160"
      ]
     },
     "metadata": {},
     "output_type": "display_data"
    },
    {
     "name": "stdout",
     "output_type": "stream",
     "text": [
      "<class 'pandas.core.frame.DataFrame'>\n",
      "Int64Index: 1064 entries, 1 to 1336\n",
      "Data columns (total 7 columns):\n",
      " #   Column    Non-Null Count  Dtype  \n",
      "---  ------    --------------  -----  \n",
      " 0   age       1064 non-null   int64  \n",
      " 1   sex       1064 non-null   object \n",
      " 2   bmi       1064 non-null   float64\n",
      " 3   children  1064 non-null   int64  \n",
      " 4   smoker    1064 non-null   object \n",
      " 5   region    1064 non-null   object \n",
      " 6   charges   1064 non-null   float64\n",
      "dtypes: float64(2), int64(2), object(3)\n",
      "memory usage: 66.5+ KB\n"
     ]
    },
    {
     "data": {
      "text/plain": [
       "None"
      ]
     },
     "metadata": {},
     "output_type": "display_data"
    }
   ],
   "source": [
    "# split data into 2 groups\n",
    "smoker_df = df.loc[df['smoker'] == 'yes'].copy()\n",
    "display(smoker_df.head())\n",
    "display(smoker_df.info())\n",
    "no_smoker_df = df.loc[df['smoker'] == 'no'].copy()\n",
    "display(no_smoker_df.head())\n",
    "display(no_smoker_df.info())"
   ]
  },
  {
   "cell_type": "code",
   "execution_count": 4,
   "id": "e244c355",
   "metadata": {},
   "outputs": [],
   "source": [
    "# define the feature of interest\n",
    "smoker_charges = smoker_df['charges']\n",
    "no_smoker_charges = no_smoker_df['charges']"
   ]
  },
  {
   "cell_type": "markdown",
   "id": "950c6aa4",
   "metadata": {},
   "source": [
    "### State your Null Hypothesis and Alternative Hypothesis"
   ]
  },
  {
   "cell_type": "markdown",
   "id": "d8c94a60",
   "metadata": {},
   "source": [
    "- Null Hypothesis: There is no significant difference between the charges of smokers vs non-smokers.\n",
    "\n",
    "- Alternate Hypothesis: There is a significant difference between the charges of smokers vs non-smokers.\n",
    "\n",
    "- Significance Level (Alpha): Alpha value is 0.05."
   ]
  },
  {
   "cell_type": "markdown",
   "id": "358e0024",
   "metadata": {},
   "source": [
    "### Select the correct test according to the data type and number of samples"
   ]
  },
  {
   "cell_type": "code",
   "execution_count": 5,
   "id": "74e3ab36",
   "metadata": {},
   "outputs": [
    {
     "data": {
      "text/plain": [
       "dtype('float64')"
      ]
     },
     "execution_count": 5,
     "metadata": {},
     "output_type": "execute_result"
    }
   ],
   "source": [
    "df['charges'].dtype"
   ]
  },
  {
   "cell_type": "code",
   "execution_count": 6,
   "id": "bc93ce5b",
   "metadata": {},
   "outputs": [
    {
     "name": "stdout",
     "output_type": "stream",
     "text": [
      "<class 'pandas.core.frame.DataFrame'>\n",
      "Int64Index: 274 entries, 0 to 1337\n",
      "Data columns (total 7 columns):\n",
      " #   Column    Non-Null Count  Dtype  \n",
      "---  ------    --------------  -----  \n",
      " 0   age       274 non-null    int64  \n",
      " 1   sex       274 non-null    object \n",
      " 2   bmi       274 non-null    float64\n",
      " 3   children  274 non-null    int64  \n",
      " 4   smoker    274 non-null    object \n",
      " 5   region    274 non-null    object \n",
      " 6   charges   274 non-null    float64\n",
      "dtypes: float64(2), int64(2), object(3)\n",
      "memory usage: 17.1+ KB\n"
     ]
    },
    {
     "data": {
      "text/plain": [
       "None"
      ]
     },
     "metadata": {},
     "output_type": "display_data"
    },
    {
     "name": "stdout",
     "output_type": "stream",
     "text": [
      "<class 'pandas.core.frame.DataFrame'>\n",
      "Int64Index: 1064 entries, 1 to 1336\n",
      "Data columns (total 7 columns):\n",
      " #   Column    Non-Null Count  Dtype  \n",
      "---  ------    --------------  -----  \n",
      " 0   age       1064 non-null   int64  \n",
      " 1   sex       1064 non-null   object \n",
      " 2   bmi       1064 non-null   float64\n",
      " 3   children  1064 non-null   int64  \n",
      " 4   smoker    1064 non-null   object \n",
      " 5   region    1064 non-null   object \n",
      " 6   charges   1064 non-null   float64\n",
      "dtypes: float64(2), int64(2), object(3)\n",
      "memory usage: 66.5+ KB\n"
     ]
    },
    {
     "data": {
      "text/plain": [
       "None"
      ]
     },
     "metadata": {},
     "output_type": "display_data"
    }
   ],
   "source": [
    "display(smoker_df.info())\n",
    "display(no_smoker_df.info())"
   ]
  },
  {
   "cell_type": "markdown",
   "id": "44019cc7",
   "metadata": {},
   "source": [
    "- Because the target data are numeric and there are 2 groups, the test will be an Independent (2-Sample) T-Test."
   ]
  },
  {
   "cell_type": "markdown",
   "id": "7b7fe090",
   "metadata": {},
   "source": [
    "### Test the assumptions of your selected test."
   ]
  },
  {
   "cell_type": "markdown",
   "id": "555a6366",
   "metadata": {},
   "source": [
    "#### Test for outliers"
   ]
  },
  {
   "cell_type": "code",
   "execution_count": 7,
   "id": "e8a6259e",
   "metadata": {},
   "outputs": [
    {
     "data": {
      "text/plain": [
       "0"
      ]
     },
     "execution_count": 7,
     "metadata": {},
     "output_type": "execute_result"
    }
   ],
   "source": [
    "# check for outliers\n",
    "zscores1= stats.zscore(smoker_charges)\n",
    "outliers1 = abs(zscores1) > 3\n",
    "np.sum(outliers1)"
   ]
  },
  {
   "cell_type": "code",
   "execution_count": 8,
   "id": "c8f97af7",
   "metadata": {},
   "outputs": [
    {
     "data": {
      "text/plain": [
       "24"
      ]
     },
     "execution_count": 8,
     "metadata": {},
     "output_type": "execute_result"
    }
   ],
   "source": [
    "# check for outliers\n",
    "zscores2= stats.zscore(no_smoker_charges)\n",
    "outliers2 = abs(zscores2) > 3\n",
    "np.sum(outliers2)"
   ]
  },
  {
   "cell_type": "code",
   "execution_count": 9,
   "id": "2d33f39e",
   "metadata": {},
   "outputs": [],
   "source": [
    "# remove outliers\n",
    "no_smoker_charges = no_smoker_charges[(np.abs(stats.zscore(no_smoker_charges)) < 3)]"
   ]
  },
  {
   "cell_type": "markdown",
   "id": "0ad24ade",
   "metadata": {},
   "source": [
    "#### Test for normality"
   ]
  },
  {
   "cell_type": "code",
   "execution_count": 10,
   "id": "50aa3110",
   "metadata": {},
   "outputs": [
    {
     "data": {
      "text/plain": [
       "NormaltestResult(statistic=61.03941356533816, pvalue=5.564930630036463e-14)"
      ]
     },
     "execution_count": 10,
     "metadata": {},
     "output_type": "execute_result"
    }
   ],
   "source": [
    "# check for normality\n",
    "result_smoker_charges = stats.normaltest(smoker_charges)\n",
    "result_smoker_charges"
   ]
  },
  {
   "cell_type": "code",
   "execution_count": 11,
   "id": "8e299efc",
   "metadata": {},
   "outputs": [
    {
     "data": {
      "text/plain": [
       "274"
      ]
     },
     "execution_count": 11,
     "metadata": {},
     "output_type": "execute_result"
    }
   ],
   "source": [
    "smoker_charges.count()"
   ]
  },
  {
   "cell_type": "markdown",
   "id": "3383f80f",
   "metadata": {},
   "source": [
    "- The p-value is < 0.05, so there is a statistical difference between the distribution and a normal distribution.\n",
    "- However, the group size is > 15, so the normality assumption can be safely ignored.\n"
   ]
  },
  {
   "cell_type": "code",
   "execution_count": 12,
   "id": "7d295938",
   "metadata": {},
   "outputs": [
    {
     "data": {
      "text/plain": [
       "NormaltestResult(statistic=163.80367047789198, pvalue=2.6945416315543976e-36)"
      ]
     },
     "execution_count": 12,
     "metadata": {},
     "output_type": "execute_result"
    }
   ],
   "source": [
    "# check for normality\n",
    "result_no_smoker_charges = stats.normaltest(no_smoker_charges)\n",
    "result_no_smoker_charges"
   ]
  },
  {
   "cell_type": "code",
   "execution_count": 13,
   "id": "76451b3c",
   "metadata": {},
   "outputs": [
    {
     "data": {
      "text/plain": [
       "1040"
      ]
     },
     "execution_count": 13,
     "metadata": {},
     "output_type": "execute_result"
    }
   ],
   "source": [
    "no_smoker_charges.count()"
   ]
  },
  {
   "cell_type": "markdown",
   "id": "f7eb1023",
   "metadata": {},
   "source": [
    "- The p-value is < 0.05, so there is a statistical difference between the distribution and a normal distribution.\n",
    "- However, the group size is > 15, so the normality assumption can be safely ignored."
   ]
  },
  {
   "cell_type": "markdown",
   "id": "ec0b2cbd",
   "metadata": {},
   "source": [
    "#### Test for equal variance"
   ]
  },
  {
   "cell_type": "code",
   "execution_count": 14,
   "id": "73e57380",
   "metadata": {},
   "outputs": [
    {
     "data": {
      "text/plain": [
       "LeveneResult(statistic=520.7468821724297, pvalue=2.4247238784347824e-97)"
      ]
     },
     "execution_count": 14,
     "metadata": {},
     "output_type": "execute_result"
    }
   ],
   "source": [
    "# check for equal variance\n",
    "result1 = stats.levene(smoker_charges, no_smoker_charges)\n",
    "result1"
   ]
  },
  {
   "cell_type": "markdown",
   "id": "2f3a7ab8",
   "metadata": {},
   "source": [
    "- The p-value is < 0.05, so there is a statistical difference between the variances of the 2 samples.\n",
    "- Include \"equal_var = False\" for the t-test."
   ]
  },
  {
   "cell_type": "markdown",
   "id": "5ddfb94b",
   "metadata": {},
   "source": [
    "### Execute the selected test"
   ]
  },
  {
   "cell_type": "code",
   "execution_count": 15,
   "id": "ba922d2f",
   "metadata": {},
   "outputs": [
    {
     "data": {
      "text/plain": [
       "Ttest_indResult(statistic=33.732305987092516, pvalue=2.5753226625873578e-104)"
      ]
     },
     "execution_count": 15,
     "metadata": {},
     "output_type": "execute_result"
    }
   ],
   "source": [
    "# Independent t-test\n",
    "result2 = stats.ttest_ind(smoker_charges, no_smoker_charges, equal_var = False)\n",
    "result2"
   ]
  },
  {
   "cell_type": "markdown",
   "id": "defe4b34",
   "metadata": {},
   "source": [
    "### Interpret your p-value and reject or fail to reject your null hypothesis "
   ]
  },
  {
   "cell_type": "markdown",
   "id": "4c326276",
   "metadata": {},
   "source": [
    "- The p-value is < 0.05, so reject the null hypothesis. There is a significant difference between groups.\n",
    "- Smokers have different insurance charges than non-smokers."
   ]
  },
  {
   "cell_type": "markdown",
   "id": "4fe3d653",
   "metadata": {},
   "source": [
    "### Show a supporting visualization that helps display the result"
   ]
  },
  {
   "cell_type": "code",
   "execution_count": 16,
   "id": "d5f0a9e1",
   "metadata": {},
   "outputs": [
    {
     "data": {
      "image/png": "[encoded data removed]",
      "text/plain": [
       "<Figure size 800x400 with 1 Axes>"
      ]
     },
     "metadata": {},
     "output_type": "display_data"
    }
   ],
   "source": [
    "fig, ax = plt.subplots(figsize= (8, 4))\n",
    "sns.barplot(data = df, x = 'smoker', y = 'charges')\n",
    "plt.title('Charges for Smokers vs Non-Smokers');"
   ]
  },
  {
   "cell_type": "markdown",
   "id": "85c2ccfe",
   "metadata": {},
   "source": [
    "## Q2. Are men more likely to smoke than women?"
   ]
  },
  {
   "cell_type": "markdown",
   "id": "c89e4e72",
   "metadata": {},
   "source": [
    "### State your Null Hypothesis and Alternative Hypothesis\n",
    "\n"
   ]
  },
  {
   "cell_type": "markdown",
   "id": "068af77d",
   "metadata": {},
   "source": [
    "- Null Hypothesis: There is no significant relationship between gender and if someone smokes.\n",
    "- Alternate Hypothesis: A person's gender influences if they smoke.\n",
    "- Significance Level (Alpha): Alpha value is 0.05."
   ]
  },
  {
   "cell_type": "markdown",
   "id": "52f18d88",
   "metadata": {},
   "source": [
    "### Select the correct test according to the data type and number of samples\n"
   ]
  },
  {
   "cell_type": "code",
   "execution_count": 17,
   "id": "ac39ac08",
   "metadata": {},
   "outputs": [
    {
     "name": "stdout",
     "output_type": "stream",
     "text": [
      "<class 'pandas.core.series.Series'>\n",
      "RangeIndex: 1338 entries, 0 to 1337\n",
      "Series name: sex\n",
      "Non-Null Count  Dtype \n",
      "--------------  ----- \n",
      "1338 non-null   object\n",
      "dtypes: object(1)\n",
      "memory usage: 10.6+ KB\n"
     ]
    }
   ],
   "source": [
    "df['sex'].info()"
   ]
  },
  {
   "cell_type": "code",
   "execution_count": 18,
   "id": "8f82b016",
   "metadata": {},
   "outputs": [
    {
     "name": "stdout",
     "output_type": "stream",
     "text": [
      "<class 'pandas.core.series.Series'>\n",
      "RangeIndex: 1338 entries, 0 to 1337\n",
      "Series name: smoker\n",
      "Non-Null Count  Dtype \n",
      "--------------  ----- \n",
      "1338 non-null   object\n",
      "dtypes: object(1)\n",
      "memory usage: 10.6+ KB\n"
     ]
    }
   ],
   "source": [
    "df['smoker'].info()"
   ]
  },
  {
   "cell_type": "markdown",
   "id": "64162279",
   "metadata": {},
   "source": [
    "- Because the target data are categorical and there are 2 groups, the test will be a Chi-Square test."
   ]
  },
  {
   "cell_type": "markdown",
   "id": "51dbbb62",
   "metadata": {},
   "source": [
    "### Test the assumptions of your selected test.\n"
   ]
  },
  {
   "cell_type": "markdown",
   "id": "733773ed",
   "metadata": {},
   "source": [
    "#### Test for categorical variables"
   ]
  },
  {
   "cell_type": "code",
   "execution_count": 19,
   "id": "366c218c",
   "metadata": {},
   "outputs": [
    {
     "data": {
      "text/plain": [
       "male      676\n",
       "female    662\n",
       "Name: sex, dtype: int64"
      ]
     },
     "execution_count": 19,
     "metadata": {},
     "output_type": "execute_result"
    }
   ],
   "source": [
    "df['sex'].value_counts()"
   ]
  },
  {
   "cell_type": "code",
   "execution_count": 20,
   "id": "a49c3ace",
   "metadata": {},
   "outputs": [
    {
     "data": {
      "text/plain": [
       "no     1064\n",
       "yes     274\n",
       "Name: smoker, dtype: int64"
      ]
     },
     "execution_count": 20,
     "metadata": {},
     "output_type": "execute_result"
    }
   ],
   "source": [
    "df['smoker'].value_counts()"
   ]
  },
  {
   "cell_type": "markdown",
   "id": "f2b9d55c",
   "metadata": {},
   "source": [
    "#### Test for independent outcomes"
   ]
  },
  {
   "cell_type": "markdown",
   "id": "b3329a21",
   "metadata": {},
   "source": [
    "- males and females are from different groups\n",
    "- smokers and non-smokers are from different groups"
   ]
  },
  {
   "cell_type": "markdown",
   "id": "0cbac9bc",
   "metadata": {},
   "source": [
    "### Execute the selected test\n"
   ]
  },
  {
   "cell_type": "code",
   "execution_count": 21,
   "id": "481e246c",
   "metadata": {},
   "outputs": [
    {
     "data": {
      "text/html": [
       "<div>\n",
       "<style scoped>\n",
       "    .dataframe tbody tr th:only-of-type {\n",
       "        vertical-align: middle;\n",
       "    }\n",
       "\n",
       "    .dataframe tbody tr th {\n",
       "        vertical-align: top;\n",
       "    }\n",
       "\n",
       "    .dataframe thead th {\n",
       "        text-align: right;\n",
       "    }\n",
       "</style>\n",
       "<table border=\"1\" class=\"dataframe\">\n",
       "  <thead>\n",
       "    <tr style=\"text-align: right;\">\n",
       "      <th>smoker</th>\n",
       "      <th>no</th>\n",
       "      <th>yes</th>\n",
       "    </tr>\n",
       "    <tr>\n",
       "      <th>sex</th>\n",
       "      <th></th>\n",
       "      <th></th>\n",
       "    </tr>\n",
       "  </thead>\n",
       "  <tbody>\n",
       "    <tr>\n",
       "      <th>female</th>\n",
       "      <td>547</td>\n",
       "      <td>115</td>\n",
       "    </tr>\n",
       "    <tr>\n",
       "      <th>male</th>\n",
       "      <td>517</td>\n",
       "      <td>159</td>\n",
       "    </tr>\n",
       "  </tbody>\n",
       "</table>\n",
       "</div>"
      ],
      "text/plain": [
       "smoker   no  yes\n",
       "sex             \n",
       "female  547  115\n",
       "male    517  159"
      ]
     },
     "execution_count": 21,
     "metadata": {},
     "output_type": "execute_result"
    }
   ],
   "source": [
    "# calculate the contingency table with pd.cross-tab\n",
    "table1 = pd.crosstab(df['sex'], df['smoker'])\n",
    "table1"
   ]
  },
  {
   "cell_type": "code",
   "execution_count": 22,
   "id": "3984a9fb",
   "metadata": {},
   "outputs": [],
   "source": [
    "# run the Chi-Square test and save the output\n",
    "result3 = stats.chi2_contingency(table1)\n",
    "chi2, p, deg_free, expected_vals = result3"
   ]
  },
  {
   "cell_type": "markdown",
   "id": "012f7939",
   "metadata": {},
   "source": [
    "### Interpret your p-value and reject or fail to reject your null hypothesis\n"
   ]
  },
  {
   "cell_type": "code",
   "execution_count": 23,
   "id": "5f970952",
   "metadata": {},
   "outputs": [
    {
     "name": "stdout",
     "output_type": "stream",
     "text": [
      "0.006548143503580696\n"
     ]
    },
    {
     "data": {
      "text/plain": [
       "True"
      ]
     },
     "execution_count": 23,
     "metadata": {},
     "output_type": "execute_result"
    }
   ],
   "source": [
    "# p-value\n",
    "print(p)\n",
    "p < 0.05"
   ]
  },
  {
   "cell_type": "markdown",
   "id": "5e8a4372",
   "metadata": {},
   "source": [
    "- The p-value is < 0.05, so reject the null hypothesis.\n",
    "- There is a significant relationship between gender and if someone smokes.\n",
    "- Males are more likely to smoke; females are more likely not to smoke.\n"
   ]
  },
  {
   "cell_type": "markdown",
   "id": "6be0225e",
   "metadata": {},
   "source": [
    "### Show a supporting visualization that helps display the result"
   ]
  },
  {
   "cell_type": "code",
   "execution_count": 24,
   "id": "46855f62",
   "metadata": {},
   "outputs": [
    {
     "data": {
      "image/png": "[encoded data removed]",
      "text/plain": [
       "<Figure size 640x480 with 1 Axes>"
      ]
     },
     "metadata": {},
     "output_type": "display_data"
    }
   ],
   "source": [
    "ax = sns.countplot(data = df, x = 'smoker', hue = 'sex')\n",
    "ax.set_title(\"Number of Smokers by Gender\");"
   ]
  },
  {
   "cell_type": "markdown",
   "id": "6dd4ac82",
   "metadata": {},
   "source": [
    "## Q3. Do different regions have different charges, on average?"
   ]
  },
  {
   "cell_type": "code",
   "execution_count": 25,
   "id": "25ac06ad",
   "metadata": {},
   "outputs": [
    {
     "data": {
      "text/plain": [
       "dict_keys(['southwest', 'southeast', 'northwest', 'northeast'])"
      ]
     },
     "execution_count": 25,
     "metadata": {},
     "output_type": "execute_result"
    }
   ],
   "source": [
    "# separate the groups\n",
    "groups = {}\n",
    "for i in df['region'].unique():\n",
    "    data = df.loc[df['region']==i,'charges'].copy()\n",
    "    groups[i] = data\n",
    "groups.keys()"
   ]
  },
  {
   "cell_type": "markdown",
   "id": "a15ad0a7",
   "metadata": {},
   "source": [
    "### State your Null Hypothesis and Alternative Hypothesis\n"
   ]
  },
  {
   "cell_type": "markdown",
   "id": "3b06c87b",
   "metadata": {},
   "source": [
    "- Null Hypothesis:  all region's means for charges are the same (the charges are not significantly different among regions).\n",
    "- Alternate Hypothesis: different regions have different mean charges (the charges are significantly different among regions).\n",
    "- Significance Level (Alpha): Alpha value is 0.05."
   ]
  },
  {
   "cell_type": "markdown",
   "id": "a63d9141",
   "metadata": {},
   "source": [
    "### Select the correct test according to the data type and number of samples\n"
   ]
  },
  {
   "cell_type": "code",
   "execution_count": 26,
   "id": "88ba32de",
   "metadata": {},
   "outputs": [
    {
     "data": {
      "text/plain": [
       "dtype('O')"
      ]
     },
     "metadata": {},
     "output_type": "display_data"
    },
    {
     "data": {
      "text/plain": [
       "dtype('float64')"
      ]
     },
     "metadata": {},
     "output_type": "display_data"
    }
   ],
   "source": [
    "display(df['region'].dtype)\n",
    "display(df['charges'].dtype)"
   ]
  },
  {
   "cell_type": "code",
   "execution_count": 27,
   "id": "18caeed8",
   "metadata": {},
   "outputs": [
    {
     "name": "stdout",
     "output_type": "stream",
     "text": [
      "<class 'pandas.core.series.Series'>\n",
      "RangeIndex: 1338 entries, 0 to 1337\n",
      "Series name: region\n",
      "Non-Null Count  Dtype \n",
      "--------------  ----- \n",
      "1338 non-null   object\n",
      "dtypes: object(1)\n",
      "memory usage: 10.6+ KB\n"
     ]
    },
    {
     "data": {
      "text/plain": [
       "None"
      ]
     },
     "metadata": {},
     "output_type": "display_data"
    },
    {
     "name": "stdout",
     "output_type": "stream",
     "text": [
      "<class 'pandas.core.series.Series'>\n",
      "RangeIndex: 1338 entries, 0 to 1337\n",
      "Series name: charges\n",
      "Non-Null Count  Dtype  \n",
      "--------------  -----  \n",
      "1338 non-null   float64\n",
      "dtypes: float64(1)\n",
      "memory usage: 10.6 KB\n"
     ]
    },
    {
     "data": {
      "text/plain": [
       "None"
      ]
     },
     "metadata": {},
     "output_type": "display_data"
    }
   ],
   "source": [
    "display(df['region'].info())\n",
    "display(df['charges'].info())"
   ]
  },
  {
   "cell_type": "markdown",
   "id": "c07bb2e4",
   "metadata": {},
   "source": [
    "- Because the target data are numeric and there are 4 groups, the test will be an ANOVA and/or Tukey."
   ]
  },
  {
   "cell_type": "markdown",
   "id": "30d6dd94",
   "metadata": {},
   "source": [
    "### Test the assumptions of your selected test.\n"
   ]
  },
  {
   "cell_type": "markdown",
   "id": "63f93fa2",
   "metadata": {},
   "source": [
    "#### Test for outliers\n"
   ]
  },
  {
   "cell_type": "code",
   "execution_count": 28,
   "id": "521018c3",
   "metadata": {},
   "outputs": [
    {
     "name": "stdout",
     "output_type": "stream",
     "text": [
      "8\n",
      "2\n",
      "7\n",
      "4\n"
     ]
    }
   ],
   "source": [
    "# check for outliers\n",
    "for i, data in groups.items():\n",
    "    zscores3 = stats.zscore(data)\n",
    "    outliers3 = abs(zscores3) > 3\n",
    "    print(np.sum(outliers3))\n",
    "    # remove outliers\n",
    "    no_smoker_charges = no_smoker_charges[(np.abs(stats.zscore(no_smoker_charges)) < 3)]"
   ]
  },
  {
   "cell_type": "code",
   "execution_count": 29,
   "id": "37573c8f",
   "metadata": {},
   "outputs": [],
   "source": [
    "# remove outliers\n",
    "for i, data in groups.items():\n",
    "    data = data[(np.abs(stats.zscore(data)) < 3)]"
   ]
  },
  {
   "cell_type": "markdown",
   "id": "5145a3da",
   "metadata": {},
   "source": [
    "#### Test for normality"
   ]
  },
  {
   "cell_type": "code",
   "execution_count": 30,
   "id": "84b68d98",
   "metadata": {},
   "outputs": [
    {
     "data": {
      "text/html": [
       "<div>\n",
       "<style scoped>\n",
       "    .dataframe tbody tr th:only-of-type {\n",
       "        vertical-align: middle;\n",
       "    }\n",
       "\n",
       "    .dataframe tbody tr th {\n",
       "        vertical-align: top;\n",
       "    }\n",
       "\n",
       "    .dataframe thead th {\n",
       "        text-align: right;\n",
       "    }\n",
       "</style>\n",
       "<table border=\"1\" class=\"dataframe\">\n",
       "  <thead>\n",
       "    <tr style=\"text-align: right;\">\n",
       "      <th></th>\n",
       "      <th>n</th>\n",
       "      <th>p</th>\n",
       "      <th>test stat</th>\n",
       "    </tr>\n",
       "  </thead>\n",
       "  <tbody>\n",
       "    <tr>\n",
       "      <th>southwest</th>\n",
       "      <td>325.0</td>\n",
       "      <td>6.125298e-23</td>\n",
       "      <td>102.294059</td>\n",
       "    </tr>\n",
       "    <tr>\n",
       "      <th>southeast</th>\n",
       "      <td>364.0</td>\n",
       "      <td>4.953297e-15</td>\n",
       "      <td>65.877446</td>\n",
       "    </tr>\n",
       "    <tr>\n",
       "      <th>northwest</th>\n",
       "      <td>325.0</td>\n",
       "      <td>5.184209e-24</td>\n",
       "      <td>107.232850</td>\n",
       "    </tr>\n",
       "    <tr>\n",
       "      <th>northeast</th>\n",
       "      <td>324.0</td>\n",
       "      <td>1.455431e-19</td>\n",
       "      <td>86.747629</td>\n",
       "    </tr>\n",
       "  </tbody>\n",
       "</table>\n",
       "</div>"
      ],
      "text/plain": [
       "               n             p   test stat\n",
       "southwest  325.0  6.125298e-23  102.294059\n",
       "southeast  364.0  4.953297e-15   65.877446\n",
       "northwest  325.0  5.184209e-24  107.232850\n",
       "northeast  324.0  1.455431e-19   86.747629"
      ]
     },
     "execution_count": 30,
     "metadata": {},
     "output_type": "execute_result"
    }
   ],
   "source": [
    "norm_results = {}\n",
    "for i, data in groups.items():\n",
    "    stat, p = stats.normaltest(data)\n",
    "    ## save the p val, test statistic, and the size of the group\n",
    "    norm_results[i] = {'n': len(data),\n",
    "                       'p':p,\n",
    "                       'test stat':stat}\n",
    "## convert to a dataframe\n",
    "norm_results_df = pd.DataFrame(norm_results).T\n",
    "norm_results_df"
   ]
  },
  {
   "cell_type": "code",
   "execution_count": 31,
   "id": "83715a6d",
   "metadata": {},
   "outputs": [
    {
     "data": {
      "text/html": [
       "<div>\n",
       "<style scoped>\n",
       "    .dataframe tbody tr th:only-of-type {\n",
       "        vertical-align: middle;\n",
       "    }\n",
       "\n",
       "    .dataframe tbody tr th {\n",
       "        vertical-align: top;\n",
       "    }\n",
       "\n",
       "    .dataframe thead th {\n",
       "        text-align: right;\n",
       "    }\n",
       "</style>\n",
       "<table border=\"1\" class=\"dataframe\">\n",
       "  <thead>\n",
       "    <tr style=\"text-align: right;\">\n",
       "      <th></th>\n",
       "      <th>n</th>\n",
       "      <th>p</th>\n",
       "      <th>test stat</th>\n",
       "      <th>sig</th>\n",
       "    </tr>\n",
       "  </thead>\n",
       "  <tbody>\n",
       "    <tr>\n",
       "      <th>southwest</th>\n",
       "      <td>325.0</td>\n",
       "      <td>6.125298e-23</td>\n",
       "      <td>102.294059</td>\n",
       "      <td>True</td>\n",
       "    </tr>\n",
       "    <tr>\n",
       "      <th>southeast</th>\n",
       "      <td>364.0</td>\n",
       "      <td>4.953297e-15</td>\n",
       "      <td>65.877446</td>\n",
       "      <td>True</td>\n",
       "    </tr>\n",
       "    <tr>\n",
       "      <th>northwest</th>\n",
       "      <td>325.0</td>\n",
       "      <td>5.184209e-24</td>\n",
       "      <td>107.232850</td>\n",
       "      <td>True</td>\n",
       "    </tr>\n",
       "    <tr>\n",
       "      <th>northeast</th>\n",
       "      <td>324.0</td>\n",
       "      <td>1.455431e-19</td>\n",
       "      <td>86.747629</td>\n",
       "      <td>True</td>\n",
       "    </tr>\n",
       "  </tbody>\n",
       "</table>\n",
       "</div>"
      ],
      "text/plain": [
       "               n             p   test stat   sig\n",
       "southwest  325.0  6.125298e-23  102.294059  True\n",
       "southeast  364.0  4.953297e-15   65.877446  True\n",
       "northwest  325.0  5.184209e-24  107.232850  True\n",
       "northeast  324.0  1.455431e-19   86.747629  True"
      ]
     },
     "execution_count": 31,
     "metadata": {},
     "output_type": "execute_result"
    }
   ],
   "source": [
    "# check the significance with pandas \n",
    "norm_results_df['sig'] = norm_results_df['p'] < .05 \n",
    "norm_results_df"
   ]
  },
  {
   "cell_type": "markdown",
   "id": "bccb2423",
   "metadata": {},
   "source": [
    "- The p-value is < 0.05 for all 4 groups, so there is a statistical difference between the distributions and a normal distribution.\n",
    "- However, the group size (n) is > 15 for each of the groups, so the normality assumption can be safely ignored."
   ]
  },
  {
   "cell_type": "markdown",
   "id": "718faa4d",
   "metadata": {},
   "source": [
    "#### Test for equal variance"
   ]
  },
  {
   "cell_type": "code",
   "execution_count": 32,
   "id": "8f9f3547",
   "metadata": {},
   "outputs": [
    {
     "data": {
      "text/plain": [
       "LeveneResult(statistic=5.559966758410606, pvalue=0.0008610590250786703)"
      ]
     },
     "execution_count": 32,
     "metadata": {},
     "output_type": "execute_result"
    }
   ],
   "source": [
    "stats.levene(*groups.values())"
   ]
  },
  {
   "cell_type": "markdown",
   "id": "3fed4ea5",
   "metadata": {},
   "source": [
    "- The p-value is < 0.05, so there is a statistical difference between the variances of the 2 samples.\n",
    "- The non-parametric equivalent of the ANOVA is Kruskal-Wallis."
   ]
  },
  {
   "cell_type": "markdown",
   "id": "68743b23",
   "metadata": {},
   "source": [
    "### Execute the selected test, or the alternative test (if you do not meet the assumptions)\n"
   ]
  },
  {
   "cell_type": "code",
   "execution_count": 33,
   "id": "192ecc06",
   "metadata": {},
   "outputs": [
    {
     "data": {
      "text/plain": [
       "KruskalResult(statistic=4.734181215658743, pvalue=0.19232908072121002)"
      ]
     },
     "execution_count": 33,
     "metadata": {},
     "output_type": "execute_result"
    }
   ],
   "source": [
    "result4 = stats.kruskal(*groups.values())\n",
    "result4"
   ]
  },
  {
   "cell_type": "markdown",
   "id": "59c3455d",
   "metadata": {},
   "source": [
    "### Interpret your p-value and reject or fail to reject your null hypothesis\n"
   ]
  },
  {
   "cell_type": "markdown",
   "id": "6d8e74a6",
   "metadata": {},
   "source": [
    "- The p-value is > 0.05, so fail to reject the nullhypothesis.\n",
    "- The charges are not significantly different among regions."
   ]
  },
  {
   "cell_type": "markdown",
   "id": "3e99ca14",
   "metadata": {},
   "source": [
    "### Show a supporting visualization that helps display the result"
   ]
  },
  {
   "cell_type": "code",
   "execution_count": 34,
   "id": "e5be8279",
   "metadata": {},
   "outputs": [
    {
     "data": {
      "image/png": "[encoded data removed]",
      "text/plain": [
       "<Figure size 800x400 with 1 Axes>"
      ]
     },
     "metadata": {},
     "output_type": "display_data"
    }
   ],
   "source": [
    "fig, ax = plt.subplots(figsize= (8, 4))\n",
    "sns.barplot(data = df, x = 'region', y = 'charges')\n",
    "plt.title('Charges for Different Regions');"
   ]
  },
  {
   "cell_type": "code",
   "execution_count": null,
   "id": "d33c0a7e",
   "metadata": {},
   "outputs": [],
   "source": []
  }
 ],
 "metadata": {
  "kernelspec": {
   "display_name": "Python (dojo-env)",
   "language": "python",
   "name": "dojo-env"
  },
  "language_info": {
   "codemirror_mode": {
    "name": "ipython",
    "version": 3
   },
   "file_extension": ".py",
   "mimetype": "text/x-python",
   "name": "python",
   "nbconvert_exporter": "python",
   "pygments_lexer": "ipython3",
   "version": "3.9.15"
  },
  "toc": {
   "base_numbering": 1,
   "nav_menu": {},
   "number_sections": false,
   "sideBar": true,
   "skip_h1_title": false,
   "title_cell": "Table of Contents",
   "title_sidebar": "Contents",
   "toc_cell": false,
   "toc_position": {},
   "toc_section_display": true,
   "toc_window_display": false
  }
 },
 "nbformat": 4,
 "nbformat_minor": 5
}
