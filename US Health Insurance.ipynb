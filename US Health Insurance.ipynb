{
 "cells": [
  {
   "cell_type": "markdown",
   "id": "ae1d5b5b",
   "metadata": {},
   "source": [
    "# US Health Insurance\n",
    "- Andrea Cohen\n",
    "- 03.09.2023"
   ]
  },
  {
   "cell_type": "markdown",
   "id": "64122911",
   "metadata": {},
   "source": [
    "## Data:\n",
    "Source - \n",
    "- https://www.kaggle.com/datasets/teertha/ushealthinsurancedataset\n",
    "\n",
    "Content -\n",
    "- This dataset contains 1338 rows of insured data, where the Insurance charges are given against the following attributes of the insured: Age, Sex, BMI, Number of Children, Smoker and Region. There are no missing or undefined values in the dataset."
   ]
  },
  {
   "cell_type": "markdown",
   "id": "5108803b",
   "metadata": {},
   "source": [
    "## Preliminary Steps"
   ]
  },
  {
   "cell_type": "code",
   "execution_count": 1,
   "id": "e60ddbfa",
   "metadata": {},
   "outputs": [],
   "source": [
    "# imports\n",
    "import pandas as pd\n",
    "import numpy as np\n",
    "import matplotlib.pyplot as plt\n",
    "import seaborn as sns\n",
    "import scipy.stats as stats"
   ]
  },
  {
   "cell_type": "code",
   "execution_count": 2,
   "id": "770a6f5d",
   "metadata": {},
   "outputs": [
    {
     "data": {
      "text/html": [
       "<div>\n",
       "<style scoped>\n",
       "    .dataframe tbody tr th:only-of-type {\n",
       "        vertical-align: middle;\n",
       "    }\n",
       "\n",
       "    .dataframe tbody tr th {\n",
       "        vertical-align: top;\n",
       "    }\n",
       "\n",
       "    .dataframe thead th {\n",
       "        text-align: right;\n",
       "    }\n",
       "</style>\n",
       "<table border=\"1\" class=\"dataframe\">\n",
       "  <thead>\n",
       "    <tr style=\"text-align: right;\">\n",
       "      <th></th>\n",
       "      <th>age</th>\n",
       "      <th>sex</th>\n",
       "      <th>bmi</th>\n",
       "      <th>children</th>\n",
       "      <th>smoker</th>\n",
       "      <th>region</th>\n",
       "      <th>charges</th>\n",
       "    </tr>\n",
       "  </thead>\n",
       "  <tbody>\n",
       "    <tr>\n",
       "      <th>0</th>\n",
       "      <td>19</td>\n",
       "      <td>female</td>\n",
       "      <td>27.900</td>\n",
       "      <td>0</td>\n",
       "      <td>yes</td>\n",
       "      <td>southwest</td>\n",
       "      <td>16884.92400</td>\n",
       "    </tr>\n",
       "    <tr>\n",
       "      <th>1</th>\n",
       "      <td>18</td>\n",
       "      <td>male</td>\n",
       "      <td>33.770</td>\n",
       "      <td>1</td>\n",
       "      <td>no</td>\n",
       "      <td>southeast</td>\n",
       "      <td>1725.55230</td>\n",
       "    </tr>\n",
       "    <tr>\n",
       "      <th>2</th>\n",
       "      <td>28</td>\n",
       "      <td>male</td>\n",
       "      <td>33.000</td>\n",
       "      <td>3</td>\n",
       "      <td>no</td>\n",
       "      <td>southeast</td>\n",
       "      <td>4449.46200</td>\n",
       "    </tr>\n",
       "    <tr>\n",
       "      <th>3</th>\n",
       "      <td>33</td>\n",
       "      <td>male</td>\n",
       "      <td>22.705</td>\n",
       "      <td>0</td>\n",
       "      <td>no</td>\n",
       "      <td>northwest</td>\n",
       "      <td>21984.47061</td>\n",
       "    </tr>\n",
       "    <tr>\n",
       "      <th>4</th>\n",
       "      <td>32</td>\n",
       "      <td>male</td>\n",
       "      <td>28.880</td>\n",
       "      <td>0</td>\n",
       "      <td>no</td>\n",
       "      <td>northwest</td>\n",
       "      <td>3866.85520</td>\n",
       "    </tr>\n",
       "  </tbody>\n",
       "</table>\n",
       "</div>"
      ],
      "text/plain": [
       "   age     sex     bmi  children smoker     region      charges\n",
       "0   19  female  27.900         0    yes  southwest  16884.92400\n",
       "1   18    male  33.770         1     no  southeast   1725.55230\n",
       "2   28    male  33.000         3     no  southeast   4449.46200\n",
       "3   33    male  22.705         0     no  northwest  21984.47061\n",
       "4   32    male  28.880         0     no  northwest   3866.85520"
      ]
     },
     "metadata": {},
     "output_type": "display_data"
    },
    {
     "name": "stdout",
     "output_type": "stream",
     "text": [
      "<class 'pandas.core.frame.DataFrame'>\n",
      "RangeIndex: 1338 entries, 0 to 1337\n",
      "Data columns (total 7 columns):\n",
      " #   Column    Non-Null Count  Dtype  \n",
      "---  ------    --------------  -----  \n",
      " 0   age       1338 non-null   int64  \n",
      " 1   sex       1338 non-null   object \n",
      " 2   bmi       1338 non-null   float64\n",
      " 3   children  1338 non-null   int64  \n",
      " 4   smoker    1338 non-null   object \n",
      " 5   region    1338 non-null   object \n",
      " 6   charges   1338 non-null   float64\n",
      "dtypes: float64(2), int64(2), object(3)\n",
      "memory usage: 73.3+ KB\n"
     ]
    },
    {
     "data": {
      "text/plain": [
       "None"
      ]
     },
     "metadata": {},
     "output_type": "display_data"
    }
   ],
   "source": [
    "# read in the data\n",
    "df = pd.read_csv('Data/insurance - insurance.csv')\n",
    "display(df.head())\n",
    "display(df.info())"
   ]
  },
  {
   "cell_type": "markdown",
   "id": "cf809b45",
   "metadata": {},
   "source": [
    "## Q1. Do smokers have higher insurance charges than non-smokers?"
   ]
  },
  {
   "cell_type": "code",
   "execution_count": 8,
   "id": "eb914329",
   "metadata": {},
   "outputs": [
    {
     "data": {
      "text/html": [
       "<div>\n",
       "<style scoped>\n",
       "    .dataframe tbody tr th:only-of-type {\n",
       "        vertical-align: middle;\n",
       "    }\n",
       "\n",
       "    .dataframe tbody tr th {\n",
       "        vertical-align: top;\n",
       "    }\n",
       "\n",
       "    .dataframe thead th {\n",
       "        text-align: right;\n",
       "    }\n",
       "</style>\n",
       "<table border=\"1\" class=\"dataframe\">\n",
       "  <thead>\n",
       "    <tr style=\"text-align: right;\">\n",
       "      <th></th>\n",
       "      <th>age</th>\n",
       "      <th>sex</th>\n",
       "      <th>bmi</th>\n",
       "      <th>children</th>\n",
       "      <th>smoker</th>\n",
       "      <th>region</th>\n",
       "      <th>charges</th>\n",
       "    </tr>\n",
       "  </thead>\n",
       "  <tbody>\n",
       "    <tr>\n",
       "      <th>0</th>\n",
       "      <td>19</td>\n",
       "      <td>female</td>\n",
       "      <td>27.90</td>\n",
       "      <td>0</td>\n",
       "      <td>yes</td>\n",
       "      <td>southwest</td>\n",
       "      <td>16884.9240</td>\n",
       "    </tr>\n",
       "    <tr>\n",
       "      <th>11</th>\n",
       "      <td>62</td>\n",
       "      <td>female</td>\n",
       "      <td>26.29</td>\n",
       "      <td>0</td>\n",
       "      <td>yes</td>\n",
       "      <td>southeast</td>\n",
       "      <td>27808.7251</td>\n",
       "    </tr>\n",
       "    <tr>\n",
       "      <th>14</th>\n",
       "      <td>27</td>\n",
       "      <td>male</td>\n",
       "      <td>42.13</td>\n",
       "      <td>0</td>\n",
       "      <td>yes</td>\n",
       "      <td>southeast</td>\n",
       "      <td>39611.7577</td>\n",
       "    </tr>\n",
       "    <tr>\n",
       "      <th>19</th>\n",
       "      <td>30</td>\n",
       "      <td>male</td>\n",
       "      <td>35.30</td>\n",
       "      <td>0</td>\n",
       "      <td>yes</td>\n",
       "      <td>southwest</td>\n",
       "      <td>36837.4670</td>\n",
       "    </tr>\n",
       "    <tr>\n",
       "      <th>23</th>\n",
       "      <td>34</td>\n",
       "      <td>female</td>\n",
       "      <td>31.92</td>\n",
       "      <td>1</td>\n",
       "      <td>yes</td>\n",
       "      <td>northeast</td>\n",
       "      <td>37701.8768</td>\n",
       "    </tr>\n",
       "  </tbody>\n",
       "</table>\n",
       "</div>"
      ],
      "text/plain": [
       "    age     sex    bmi  children smoker     region     charges\n",
       "0    19  female  27.90         0    yes  southwest  16884.9240\n",
       "11   62  female  26.29         0    yes  southeast  27808.7251\n",
       "14   27    male  42.13         0    yes  southeast  39611.7577\n",
       "19   30    male  35.30         0    yes  southwest  36837.4670\n",
       "23   34  female  31.92         1    yes  northeast  37701.8768"
      ]
     },
     "metadata": {},
     "output_type": "display_data"
    },
    {
     "name": "stdout",
     "output_type": "stream",
     "text": [
      "<class 'pandas.core.frame.DataFrame'>\n",
      "Int64Index: 274 entries, 0 to 1337\n",
      "Data columns (total 7 columns):\n",
      " #   Column    Non-Null Count  Dtype  \n",
      "---  ------    --------------  -----  \n",
      " 0   age       274 non-null    int64  \n",
      " 1   sex       274 non-null    object \n",
      " 2   bmi       274 non-null    float64\n",
      " 3   children  274 non-null    int64  \n",
      " 4   smoker    274 non-null    object \n",
      " 5   region    274 non-null    object \n",
      " 6   charges   274 non-null    float64\n",
      "dtypes: float64(2), int64(2), object(3)\n",
      "memory usage: 17.1+ KB\n"
     ]
    },
    {
     "data": {
      "text/plain": [
       "None"
      ]
     },
     "metadata": {},
     "output_type": "display_data"
    },
    {
     "data": {
      "text/html": [
       "<div>\n",
       "<style scoped>\n",
       "    .dataframe tbody tr th:only-of-type {\n",
       "        vertical-align: middle;\n",
       "    }\n",
       "\n",
       "    .dataframe tbody tr th {\n",
       "        vertical-align: top;\n",
       "    }\n",
       "\n",
       "    .dataframe thead th {\n",
       "        text-align: right;\n",
       "    }\n",
       "</style>\n",
       "<table border=\"1\" class=\"dataframe\">\n",
       "  <thead>\n",
       "    <tr style=\"text-align: right;\">\n",
       "      <th></th>\n",
       "      <th>age</th>\n",
       "      <th>sex</th>\n",
       "      <th>bmi</th>\n",
       "      <th>children</th>\n",
       "      <th>smoker</th>\n",
       "      <th>region</th>\n",
       "      <th>charges</th>\n",
       "    </tr>\n",
       "  </thead>\n",
       "  <tbody>\n",
       "    <tr>\n",
       "      <th>1</th>\n",
       "      <td>18</td>\n",
       "      <td>male</td>\n",
       "      <td>33.770</td>\n",
       "      <td>1</td>\n",
       "      <td>no</td>\n",
       "      <td>southeast</td>\n",
       "      <td>1725.55230</td>\n",
       "    </tr>\n",
       "    <tr>\n",
       "      <th>2</th>\n",
       "      <td>28</td>\n",
       "      <td>male</td>\n",
       "      <td>33.000</td>\n",
       "      <td>3</td>\n",
       "      <td>no</td>\n",
       "      <td>southeast</td>\n",
       "      <td>4449.46200</td>\n",
       "    </tr>\n",
       "    <tr>\n",
       "      <th>3</th>\n",
       "      <td>33</td>\n",
       "      <td>male</td>\n",
       "      <td>22.705</td>\n",
       "      <td>0</td>\n",
       "      <td>no</td>\n",
       "      <td>northwest</td>\n",
       "      <td>21984.47061</td>\n",
       "    </tr>\n",
       "    <tr>\n",
       "      <th>4</th>\n",
       "      <td>32</td>\n",
       "      <td>male</td>\n",
       "      <td>28.880</td>\n",
       "      <td>0</td>\n",
       "      <td>no</td>\n",
       "      <td>northwest</td>\n",
       "      <td>3866.85520</td>\n",
       "    </tr>\n",
       "    <tr>\n",
       "      <th>5</th>\n",
       "      <td>31</td>\n",
       "      <td>female</td>\n",
       "      <td>25.740</td>\n",
       "      <td>0</td>\n",
       "      <td>no</td>\n",
       "      <td>southeast</td>\n",
       "      <td>3756.62160</td>\n",
       "    </tr>\n",
       "  </tbody>\n",
       "</table>\n",
       "</div>"
      ],
      "text/plain": [
       "   age     sex     bmi  children smoker     region      charges\n",
       "1   18    male  33.770         1     no  southeast   1725.55230\n",
       "2   28    male  33.000         3     no  southeast   4449.46200\n",
       "3   33    male  22.705         0     no  northwest  21984.47061\n",
       "4   32    male  28.880         0     no  northwest   3866.85520\n",
       "5   31  female  25.740         0     no  southeast   3756.62160"
      ]
     },
     "metadata": {},
     "output_type": "display_data"
    },
    {
     "name": "stdout",
     "output_type": "stream",
     "text": [
      "<class 'pandas.core.frame.DataFrame'>\n",
      "Int64Index: 1064 entries, 1 to 1336\n",
      "Data columns (total 7 columns):\n",
      " #   Column    Non-Null Count  Dtype  \n",
      "---  ------    --------------  -----  \n",
      " 0   age       1064 non-null   int64  \n",
      " 1   sex       1064 non-null   object \n",
      " 2   bmi       1064 non-null   float64\n",
      " 3   children  1064 non-null   int64  \n",
      " 4   smoker    1064 non-null   object \n",
      " 5   region    1064 non-null   object \n",
      " 6   charges   1064 non-null   float64\n",
      "dtypes: float64(2), int64(2), object(3)\n",
      "memory usage: 66.5+ KB\n"
     ]
    },
    {
     "data": {
      "text/plain": [
       "None"
      ]
     },
     "metadata": {},
     "output_type": "display_data"
    }
   ],
   "source": [
    "# split data into 2 groups\n",
    "smoker_df = df.loc[df['smoker'] == 'yes'].copy()\n",
    "display(smoker_df.head())\n",
    "display(smoker_df.info())\n",
    "no_smoker_df = df.loc[df['smoker'] == 'no'].copy()\n",
    "display(no_smoker_df.head())\n",
    "display(no_smoker_df.info())"
   ]
  },
  {
   "cell_type": "code",
   "execution_count": 9,
   "id": "956222d8",
   "metadata": {},
   "outputs": [],
   "source": [
    "# define the feature of interest\n",
    "smoker_charges = smoker_df['charges']\n",
    "no_smoker_charges = no_smoker_df['charges']"
   ]
  },
  {
   "cell_type": "markdown",
   "id": "96a68e7e",
   "metadata": {},
   "source": [
    "### State your Null Hypothesis and Alternative Hypothesis"
   ]
  },
  {
   "cell_type": "markdown",
   "id": "8a2eedd3",
   "metadata": {},
   "source": [
    "- Null Hypothesis: There is no significant difference between the charges of smokers vs non-smokers.\n",
    "\n",
    "- Alternate Hypothesis: There is a significant difference between the charges of smokers vs non-smokers.\n",
    "\n",
    "- Significance Level (Alpha): Alpha value is 0.05."
   ]
  },
  {
   "cell_type": "markdown",
   "id": "76edb9cb",
   "metadata": {},
   "source": [
    "### Select the correct test according to the data type and number of samples"
   ]
  },
  {
   "cell_type": "code",
   "execution_count": 10,
   "id": "9a5ef1dc",
   "metadata": {},
   "outputs": [
    {
     "data": {
      "text/plain": [
       "dtype('float64')"
      ]
     },
     "execution_count": 10,
     "metadata": {},
     "output_type": "execute_result"
    }
   ],
   "source": [
    "df['charges'].dtype"
   ]
  },
  {
   "cell_type": "code",
   "execution_count": 11,
   "id": "51ea2761",
   "metadata": {},
   "outputs": [
    {
     "name": "stdout",
     "output_type": "stream",
     "text": [
      "<class 'pandas.core.frame.DataFrame'>\n",
      "Int64Index: 274 entries, 0 to 1337\n",
      "Data columns (total 7 columns):\n",
      " #   Column    Non-Null Count  Dtype  \n",
      "---  ------    --------------  -----  \n",
      " 0   age       274 non-null    int64  \n",
      " 1   sex       274 non-null    object \n",
      " 2   bmi       274 non-null    float64\n",
      " 3   children  274 non-null    int64  \n",
      " 4   smoker    274 non-null    object \n",
      " 5   region    274 non-null    object \n",
      " 6   charges   274 non-null    float64\n",
      "dtypes: float64(2), int64(2), object(3)\n",
      "memory usage: 17.1+ KB\n"
     ]
    },
    {
     "data": {
      "text/plain": [
       "None"
      ]
     },
     "metadata": {},
     "output_type": "display_data"
    },
    {
     "name": "stdout",
     "output_type": "stream",
     "text": [
      "<class 'pandas.core.frame.DataFrame'>\n",
      "Int64Index: 1064 entries, 1 to 1336\n",
      "Data columns (total 7 columns):\n",
      " #   Column    Non-Null Count  Dtype  \n",
      "---  ------    --------------  -----  \n",
      " 0   age       1064 non-null   int64  \n",
      " 1   sex       1064 non-null   object \n",
      " 2   bmi       1064 non-null   float64\n",
      " 3   children  1064 non-null   int64  \n",
      " 4   smoker    1064 non-null   object \n",
      " 5   region    1064 non-null   object \n",
      " 6   charges   1064 non-null   float64\n",
      "dtypes: float64(2), int64(2), object(3)\n",
      "memory usage: 66.5+ KB\n"
     ]
    },
    {
     "data": {
      "text/plain": [
       "None"
      ]
     },
     "metadata": {},
     "output_type": "display_data"
    }
   ],
   "source": [
    "display(smoker_df.info())\n",
    "display(no_smoker_df.info())"
   ]
  },
  {
   "cell_type": "markdown",
   "id": "3bfab6d6",
   "metadata": {},
   "source": [
    "- Because the target data are numeric and there are 2 groups, the test will be an Independent (2-Sample) T-Test."
   ]
  },
  {
   "cell_type": "markdown",
   "id": "4fc02e88",
   "metadata": {},
   "source": [
    "### Test the assumptions of your selected test."
   ]
  },
  {
   "cell_type": "markdown",
   "id": "b4f96a36",
   "metadata": {},
   "source": [
    "#### Test for outliers"
   ]
  },
  {
   "cell_type": "code",
   "execution_count": 12,
   "id": "35d2e93c",
   "metadata": {},
   "outputs": [
    {
     "data": {
      "text/plain": [
       "0"
      ]
     },
     "execution_count": 12,
     "metadata": {},
     "output_type": "execute_result"
    }
   ],
   "source": [
    "# check for outliers\n",
    "zscores1= stats.zscore(smoker_charges)\n",
    "outliers1 = abs(zscores1) > 3\n",
    "np.sum(outliers1)"
   ]
  },
  {
   "cell_type": "code",
   "execution_count": 13,
   "id": "fac156db",
   "metadata": {},
   "outputs": [
    {
     "data": {
      "text/plain": [
       "24"
      ]
     },
     "execution_count": 13,
     "metadata": {},
     "output_type": "execute_result"
    }
   ],
   "source": [
    "# check for outliers\n",
    "zscores2= stats.zscore(no_smoker_charges)\n",
    "outliers2 = abs(zscores2) > 3\n",
    "np.sum(outliers2)"
   ]
  },
  {
   "cell_type": "code",
   "execution_count": 14,
   "id": "d5f7affd",
   "metadata": {},
   "outputs": [],
   "source": [
    "# remove outliers\n",
    "no_smoker_charges = no_smoker_charges[(np.abs(stats.zscore(no_smoker_charges)) < 3)]"
   ]
  },
  {
   "cell_type": "markdown",
   "id": "a630789b",
   "metadata": {},
   "source": [
    "#### Test for normality"
   ]
  },
  {
   "cell_type": "code",
   "execution_count": 16,
   "id": "ce5bee6d",
   "metadata": {},
   "outputs": [
    {
     "data": {
      "text/plain": [
       "NormaltestResult(statistic=61.03941356533816, pvalue=5.564930630036463e-14)"
      ]
     },
     "execution_count": 16,
     "metadata": {},
     "output_type": "execute_result"
    }
   ],
   "source": [
    "# check for normality\n",
    "result_smoker_charges = stats.normaltest(smoker_charges)\n",
    "result_smoker_charges"
   ]
  },
  {
   "cell_type": "markdown",
   "id": "3526350f",
   "metadata": {},
   "source": [
    "- The p-value is > 0.05, so there is no statistical difference between the distribution and a normal distribution.\n"
   ]
  },
  {
   "cell_type": "code",
   "execution_count": 17,
   "id": "07080fa0",
   "metadata": {},
   "outputs": [
    {
     "data": {
      "text/plain": [
       "NormaltestResult(statistic=163.80367047789198, pvalue=2.6945416315543976e-36)"
      ]
     },
     "execution_count": 17,
     "metadata": {},
     "output_type": "execute_result"
    }
   ],
   "source": [
    "# check for normality\n",
    "result_no_smoker_charges = stats.normaltest(no_smoker_charges)\n",
    "result_no_smoker_charges"
   ]
  },
  {
   "cell_type": "markdown",
   "id": "4c0bd399",
   "metadata": {},
   "source": [
    "- The p-value is > 0.05, so there is no statistical difference between the distribution and a normal distribution."
   ]
  },
  {
   "cell_type": "markdown",
   "id": "2a0e1d5c",
   "metadata": {},
   "source": [
    "#### Test for equal variance"
   ]
  },
  {
   "cell_type": "code",
   "execution_count": 18,
   "id": "2a3eed93",
   "metadata": {},
   "outputs": [
    {
     "data": {
      "text/plain": [
       "LeveneResult(statistic=520.7468821724297, pvalue=2.4247238784347824e-97)"
      ]
     },
     "execution_count": 18,
     "metadata": {},
     "output_type": "execute_result"
    }
   ],
   "source": [
    "# check for equal variance\n",
    "result1 = stats.levene(smoker_charges, no_smoker_charges)\n",
    "result1"
   ]
  },
  {
   "cell_type": "markdown",
   "id": "7a97d27f",
   "metadata": {},
   "source": [
    "- The p-value is > 0.05, so there is no statistical difference between the variances of the 2 samples."
   ]
  },
  {
   "cell_type": "markdown",
   "id": "6a896344",
   "metadata": {},
   "source": [
    "### Execute the selected test"
   ]
  },
  {
   "cell_type": "code",
   "execution_count": 19,
   "id": "7a2e5874",
   "metadata": {},
   "outputs": [
    {
     "data": {
      "text/plain": [
       "Ttest_indResult(statistic=51.2078044173717, pvalue=3.68768124e-315)"
      ]
     },
     "execution_count": 19,
     "metadata": {},
     "output_type": "execute_result"
    }
   ],
   "source": [
    "# Independent t-test\n",
    "result2 = stats.ttest_ind(smoker_charges, no_smoker_charges)\n",
    "result2"
   ]
  },
  {
   "cell_type": "markdown",
   "id": "c0b03bd7",
   "metadata": {},
   "source": [
    "### Interpret your p-value and reject or fail to reject your null hypothesis "
   ]
  },
  {
   "cell_type": "markdown",
   "id": "b472fb93",
   "metadata": {},
   "source": [
    "- The p-value is < 0.05, so reject the null hypothesis. There is a significant difference between groups.\n",
    "- Smokers have different insurance charges than non-smokers."
   ]
  },
  {
   "cell_type": "markdown",
   "id": "6b12581b",
   "metadata": {},
   "source": [
    "### Show a supporting visualization that helps display the result"
   ]
  },
  {
   "cell_type": "code",
   "execution_count": 30,
   "id": "e14aa5f3",
   "metadata": {},
   "outputs": [
    {
     "data": {
      "image/png": "[encoded data removed]",
      "text/plain": [
       "<Figure size 800x400 with 1 Axes>"
      ]
     },
     "metadata": {},
     "output_type": "display_data"
    }
   ],
   "source": [
    "fig, ax = plt.subplots(figsize= (8, 4))\n",
    "sns.barplot(data = df, x = 'smoker', y = 'charges')\n",
    "plt.title('Charges for Smokers vs Non-Smokers');"
   ]
  },
  {
   "cell_type": "markdown",
   "id": "6a03c1c0",
   "metadata": {},
   "source": [
    "## Q2. Are men more likely to smoke than women?"
   ]
  },
  {
   "cell_type": "markdown",
   "id": "28f78751",
   "metadata": {},
   "source": [
    "### State your Null Hypothesis and Alternative Hypothesis\n",
    "\n"
   ]
  },
  {
   "cell_type": "markdown",
   "id": "77600700",
   "metadata": {},
   "source": [
    "### Select the correct test according to the data type and number of samples\n"
   ]
  },
  {
   "cell_type": "markdown",
   "id": "5b0dda41",
   "metadata": {},
   "source": [
    "### Test the assumptions of your selected test.\n"
   ]
  },
  {
   "cell_type": "markdown",
   "id": "bf115802",
   "metadata": {},
   "source": [
    "### Execute the selected test, or the alternative test (if you do not meet the assumptions)\n"
   ]
  },
  {
   "cell_type": "markdown",
   "id": "de7c29d5",
   "metadata": {},
   "source": [
    "### Interpret your p-value and reject or fail to reject your null hypothesis\n"
   ]
  },
  {
   "cell_type": "markdown",
   "id": "1d194543",
   "metadata": {},
   "source": [
    "### Show a supporting visualization that helps display the result"
   ]
  },
  {
   "cell_type": "markdown",
   "id": "2c832856",
   "metadata": {},
   "source": [
    "## Q3. Do different regions have different charges, on average?"
   ]
  },
  {
   "cell_type": "markdown",
   "id": "2248f98c",
   "metadata": {},
   "source": [
    "### State your Null Hypothesis and Alternative Hypothesis\n"
   ]
  },
  {
   "cell_type": "markdown",
   "id": "32b70057",
   "metadata": {},
   "source": [
    "### Select the correct test according to the data type and number of samples\n"
   ]
  },
  {
   "cell_type": "markdown",
   "id": "7556d36c",
   "metadata": {},
   "source": [
    "### Test the assumptions of your selected test.\n"
   ]
  },
  {
   "cell_type": "markdown",
   "id": "28a7dd02",
   "metadata": {},
   "source": [
    "### Execute the selected test, or the alternative test (if you do not meet the assumptions)\n"
   ]
  },
  {
   "cell_type": "markdown",
   "id": "e2a44660",
   "metadata": {},
   "source": [
    "### Interpret your p-value and reject or fail to reject your null hypothesis\n"
   ]
  },
  {
   "cell_type": "markdown",
   "id": "e93e0169",
   "metadata": {},
   "source": [
    "### Show a supporting visualization that helps display the result"
   ]
  },
  {
   "cell_type": "code",
   "execution_count": null,
   "id": "a13190e3",
   "metadata": {},
   "outputs": [],
   "source": []
  }
 ],
 "metadata": {
  "kernelspec": {
   "display_name": "Python (dojo-env)",
   "language": "python",
   "name": "dojo-env"
  },
  "language_info": {
   "codemirror_mode": {
    "name": "ipython",
    "version": 3
   },
   "file_extension": ".py",
   "mimetype": "text/x-python",
   "name": "python",
   "nbconvert_exporter": "python",
   "pygments_lexer": "ipython3",
   "version": "3.9.15"
  },
  "toc": {
   "base_numbering": 1,
   "nav_menu": {},
   "number_sections": false,
   "sideBar": true,
   "skip_h1_title": false,
   "title_cell": "Table of Contents",
   "title_sidebar": "Contents",
   "toc_cell": false,
   "toc_position": {},
   "toc_section_display": true,
   "toc_window_display": false
  }
 },
 "nbformat": 4,
 "nbformat_minor": 5
}
